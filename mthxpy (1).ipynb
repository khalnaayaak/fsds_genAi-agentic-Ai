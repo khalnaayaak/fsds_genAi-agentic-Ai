{
 "cells": [
  {
   "cell_type": "code",
   "execution_count": 1,
   "id": "b4fe95c6-0791-4e8e-adbf-0baf3b5a8b1f",
   "metadata": {},
   "outputs": [
    {
     "data": {
      "text/plain": [
       "{}"
      ]
     },
     "execution_count": 1,
     "metadata": {},
     "output_type": "execute_result"
    }
   ],
   "source": [
    "s={}\n",
    "s"
   ]
  },
  {
   "cell_type": "code",
   "execution_count": 2,
   "id": "85e8a931-13ba-4178-adeb-b987d899f975",
   "metadata": {},
   "outputs": [
    {
     "data": {
      "text/plain": [
       "set()"
      ]
     },
     "execution_count": 2,
     "metadata": {},
     "output_type": "execute_result"
    }
   ],
   "source": [
    "s1=set()\n",
    "s1"
   ]
  },
  {
   "cell_type": "code",
   "execution_count": 3,
   "id": "4177eaf4-2ad1-4a58-86df-1e9858855734",
   "metadata": {},
   "outputs": [
    {
     "data": {
      "text/plain": [
       "dict"
      ]
     },
     "execution_count": 3,
     "metadata": {},
     "output_type": "execute_result"
    }
   ],
   "source": [
    "type(s)"
   ]
  },
  {
   "cell_type": "code",
   "execution_count": 5,
   "id": "9033934d-0c10-4acf-9dcf-c2f53a418861",
   "metadata": {},
   "outputs": [
    {
     "data": {
      "text/plain": [
       "{20}"
      ]
     },
     "execution_count": 5,
     "metadata": {},
     "output_type": "execute_result"
    }
   ],
   "source": [
    "set()\n",
    "s1.add(20)\n",
    "s1"
   ]
  },
  {
   "cell_type": "code",
   "execution_count": 6,
   "id": "878e47e5-8402-4e09-ab23-5ee06378cf58",
   "metadata": {},
   "outputs": [
    {
     "ename": "TypeError",
     "evalue": "set.add() takes exactly one argument (2 given)",
     "output_type": "error",
     "traceback": [
      "\u001b[31m---------------------------------------------------------------------------\u001b[39m",
      "\u001b[31mTypeError\u001b[39m                                 Traceback (most recent call last)",
      "\u001b[36mCell\u001b[39m\u001b[36m \u001b[39m\u001b[32mIn[6]\u001b[39m\u001b[32m, line 1\u001b[39m\n\u001b[32m----> \u001b[39m\u001b[32m1\u001b[39m s1.add(\u001b[32m30\u001b[39m,\u001b[32m10\u001b[39m)\n",
      "\u001b[31mTypeError\u001b[39m: set.add() takes exactly one argument (2 given)"
     ]
    }
   ],
   "source": [
    "s1.add(30,10)"
   ]
  },
  {
   "cell_type": "code",
   "execution_count": 7,
   "id": "30e0aac9-0156-4d3a-8aef-6585aa9b7247",
   "metadata": {},
   "outputs": [
    {
     "ename": "NameError",
     "evalue": "name 'add' is not defined",
     "output_type": "error",
     "traceback": [
      "\u001b[31m---------------------------------------------------------------------------\u001b[39m",
      "\u001b[31mNameError\u001b[39m                                 Traceback (most recent call last)",
      "\u001b[36mCell\u001b[39m\u001b[36m \u001b[39m\u001b[32mIn[7]\u001b[39m\u001b[32m, line 1\u001b[39m\n\u001b[32m----> \u001b[39m\u001b[32m1\u001b[39m add()\n",
      "\u001b[31mNameError\u001b[39m: name 'add' is not defined"
     ]
    }
   ],
   "source": [
    "add()"
   ]
  },
  {
   "cell_type": "code",
   "execution_count": 8,
   "id": "fc2293ee-ff64-481e-a26d-65d4564d3507",
   "metadata": {},
   "outputs": [],
   "source": [
    "s1.add(10)\n",
    "s1.add(100)\n",
    "s1.add(25)"
   ]
  },
  {
   "cell_type": "code",
   "execution_count": 9,
   "id": "36d9e5f7-c278-41d4-b12b-d45f445019cc",
   "metadata": {},
   "outputs": [
    {
     "data": {
      "text/plain": [
       "{10, 20, 25, 100}"
      ]
     },
     "execution_count": 9,
     "metadata": {},
     "output_type": "execute_result"
    }
   ],
   "source": [
    "s1"
   ]
  },
  {
   "cell_type": "code",
   "execution_count": 12,
   "id": "b8506c2c-2da5-433b-9cac-136ab9869a06",
   "metadata": {},
   "outputs": [],
   "source": [
    "s1.add(30)"
   ]
  },
  {
   "cell_type": "code",
   "execution_count": 13,
   "id": "8c351161-7c62-4b22-9044-b05598eb7832",
   "metadata": {},
   "outputs": [
    {
     "data": {
      "text/plain": [
       "{10, 20, 25, 30, 100}"
      ]
     },
     "execution_count": 13,
     "metadata": {},
     "output_type": "execute_result"
    }
   ],
   "source": [
    "s1"
   ]
  },
  {
   "cell_type": "code",
   "execution_count": 14,
   "id": "dd4b557a-9c3e-423d-b1a2-0460ce1bb03b",
   "metadata": {},
   "outputs": [
    {
     "data": {
      "text/plain": [
       "set()"
      ]
     },
     "execution_count": 14,
     "metadata": {},
     "output_type": "execute_result"
    }
   ],
   "source": [
    "s2=set()\n",
    "s2"
   ]
  },
  {
   "cell_type": "code",
   "execution_count": 17,
   "id": "2059ae83-b486-4118-908a-2519b3040ef8",
   "metadata": {},
   "outputs": [],
   "source": [
    "s2.add(10)\n",
    "s2.add(1.20) \n",
    "s2.add(1+2)\n",
    "s2.add(True)\n",
    "s2.add('OD')"
   ]
  },
  {
   "cell_type": "code",
   "execution_count": 18,
   "id": "3a9792cf-3346-4c70-a55f-7c1f96633da4",
   "metadata": {},
   "outputs": [
    {
     "data": {
      "text/plain": [
       "{1.2, 10, 3, 'OD', True}"
      ]
     },
     "execution_count": 18,
     "metadata": {},
     "output_type": "execute_result"
    }
   ],
   "source": [
    "s2"
   ]
  },
  {
   "cell_type": "code",
   "execution_count": 19,
   "id": "2a6fb880-57cd-422f-8193-d05369120423",
   "metadata": {},
   "outputs": [],
   "source": [
    "s2.add(10)\n",
    "s2.add(1.20) \n",
    "s2.add(1+2j)\n",
    "s2.add(True)\n",
    "s2.add('OD')"
   ]
  },
  {
   "cell_type": "code",
   "execution_count": 20,
   "id": "4b1cf088-d2f3-4886-aaa4-9072ad2764b1",
   "metadata": {},
   "outputs": [
    {
     "data": {
      "text/plain": [
       "{(1+2j), 1.2, 10, 3, 'OD', True}"
      ]
     },
     "execution_count": 20,
     "metadata": {},
     "output_type": "execute_result"
    }
   ],
   "source": [
    "s2"
   ]
  },
  {
   "cell_type": "code",
   "execution_count": 21,
   "id": "4a030221-9c50-4ef1-9e41-157ae121239d",
   "metadata": {},
   "outputs": [
    {
     "name": "stdout",
     "output_type": "stream",
     "text": [
      "{100, 10, 20, 25, 30}\n",
      "{1.2, True, 3, (1+2j), 10, 'OD'}\n"
     ]
    }
   ],
   "source": [
    "print (s1)\n",
    "print(s2)\n"
   ]
  },
  {
   "cell_type": "code",
   "execution_count": 22,
   "id": "2a30291d-763f-481e-9dff-1573801829b6",
   "metadata": {},
   "outputs": [
    {
     "data": {
      "text/plain": [
       "False"
      ]
     },
     "execution_count": 22,
     "metadata": {},
     "output_type": "execute_result"
    }
   ],
   "source": [
    "id(s1)==id(s2)"
   ]
  },
  {
   "cell_type": "code",
   "execution_count": 23,
   "id": "2ce35591-2505-4971-b69b-ac482f843654",
   "metadata": {},
   "outputs": [
    {
     "data": {
      "text/plain": [
       "{(1+2j), 1.2, 10, 3, 'OD', True}"
      ]
     },
     "execution_count": 23,
     "metadata": {},
     "output_type": "execute_result"
    }
   ],
   "source": [
    "s3=s2.copy()\n",
    "s3"
   ]
  },
  {
   "cell_type": "code",
   "execution_count": 24,
   "id": "722725e2-7409-45be-8a15-aa756328fbfe",
   "metadata": {},
   "outputs": [],
   "source": [
    "s2=s3"
   ]
  },
  {
   "cell_type": "code",
   "execution_count": 25,
   "id": "87f0d548-264e-4cd3-a760-0bf87f3fdc17",
   "metadata": {},
   "outputs": [
    {
     "data": {
      "text/plain": [
       "True"
      ]
     },
     "execution_count": 25,
     "metadata": {},
     "output_type": "execute_result"
    }
   ],
   "source": [
    "s2==s3"
   ]
  },
  {
   "cell_type": "code",
   "execution_count": 26,
   "id": "cde16437-5f5a-4a46-9e61-67a6a9f2f6ff",
   "metadata": {},
   "outputs": [
    {
     "name": "stdout",
     "output_type": "stream",
     "text": [
      "{100, 10, 20, 25, 30}\n",
      "{1.2, True, 3, (1+2j), 10, 'OD'}\n",
      "{1.2, True, 3, (1+2j), 10, 'OD'}\n"
     ]
    }
   ],
   "source": [
    "print(s1)\n",
    "print(s2)\n",
    "print(s3)"
   ]
  },
  {
   "cell_type": "code",
   "execution_count": 27,
   "id": "aedb659b-8923-437a-983a-982d75ec5e11",
   "metadata": {},
   "outputs": [
    {
     "data": {
      "text/plain": [
       "1.2"
      ]
     },
     "execution_count": 27,
     "metadata": {},
     "output_type": "execute_result"
    }
   ],
   "source": [
    "s2.pop()"
   ]
  },
  {
   "cell_type": "code",
   "execution_count": 28,
   "id": "5eab6f00-dbdf-4f52-a6ba-bd79921a4548",
   "metadata": {},
   "outputs": [
    {
     "data": {
      "text/plain": [
       "{(1+2j), 10, 3, 'OD', True}"
      ]
     },
     "execution_count": 28,
     "metadata": {},
     "output_type": "execute_result"
    }
   ],
   "source": [
    "s2"
   ]
  },
  {
   "cell_type": "code",
   "execution_count": 29,
   "id": "53d1c79c-c256-4bb2-bbb7-5739632b4625",
   "metadata": {},
   "outputs": [
    {
     "data": {
      "text/plain": [
       "{(1+2j), 10, 3, 'OD', True}"
      ]
     },
     "execution_count": 29,
     "metadata": {},
     "output_type": "execute_result"
    }
   ],
   "source": [
    "s3"
   ]
  },
  {
   "cell_type": "code",
   "execution_count": 34,
   "id": "b9516894-7dc2-4a97-8003-449da56cc091",
   "metadata": {},
   "outputs": [],
   "source": [
    "s3.remove((1+2j))"
   ]
  },
  {
   "cell_type": "code",
   "execution_count": 35,
   "id": "22d6a321-8108-45ce-ae08-dee3f6f4517e",
   "metadata": {},
   "outputs": [
    {
     "data": {
      "text/plain": [
       "{10, 3, 'OD', True}"
      ]
     },
     "execution_count": 35,
     "metadata": {},
     "output_type": "execute_result"
    }
   ],
   "source": [
    "s3"
   ]
  },
  {
   "cell_type": "code",
   "execution_count": 36,
   "id": "f5621786-6032-4bd8-a1d8-94b0af4e16e8",
   "metadata": {},
   "outputs": [
    {
     "ename": "KeyError",
     "evalue": "1000",
     "output_type": "error",
     "traceback": [
      "\u001b[31m---------------------------------------------------------------------------\u001b[39m",
      "\u001b[31mKeyError\u001b[39m                                  Traceback (most recent call last)",
      "\u001b[36mCell\u001b[39m\u001b[36m \u001b[39m\u001b[32mIn[36]\u001b[39m\u001b[32m, line 1\u001b[39m\n\u001b[32m----> \u001b[39m\u001b[32m1\u001b[39m s3.remove(\u001b[32m1000\u001b[39m)\n",
      "\u001b[31mKeyError\u001b[39m: 1000"
     ]
    }
   ],
   "source": [
    "s3.remove(1000)"
   ]
  },
  {
   "cell_type": "code",
   "execution_count": 37,
   "id": "c463c0b0-3392-4cc0-952c-d64e216f12e7",
   "metadata": {},
   "outputs": [],
   "source": [
    "s3.discard(1000)"
   ]
  },
  {
   "cell_type": "code",
   "execution_count": 38,
   "id": "dfaebae1-4cd2-467a-98bb-e3f8339e6038",
   "metadata": {},
   "outputs": [
    {
     "name": "stdout",
     "output_type": "stream",
     "text": [
      "{100, 10, 20, 25, 30}\n",
      "{True, 3, 10, 'OD'}\n",
      "{True, 3, 10, 'OD'}\n"
     ]
    }
   ],
   "source": [
    "print(s1)\n",
    "print(s2)\n",
    "print(s3)"
   ]
  },
  {
   "cell_type": "code",
   "execution_count": 39,
   "id": "bcd284ca-0990-45ce-a2c1-11a6e22f54a4",
   "metadata": {},
   "outputs": [],
   "source": [
    "a={1,2,3,4,5}\n",
    "b={4,5,6,7}\n",
    "c={8,9,10}"
   ]
  },
  {
   "cell_type": "code",
   "execution_count": 40,
   "id": "896599b9-5627-4cf3-99b7-535a41de7191",
   "metadata": {},
   "outputs": [
    {
     "data": {
      "text/plain": [
       "{1, 2, 3, 4, 5, 6, 7}"
      ]
     },
     "execution_count": 40,
     "metadata": {},
     "output_type": "execute_result"
    }
   ],
   "source": [
    "a.union(b)"
   ]
  },
  {
   "cell_type": "code",
   "execution_count": 41,
   "id": "46bb3e71-55d1-4146-88e6-16f30a475db6",
   "metadata": {},
   "outputs": [
    {
     "data": {
      "text/plain": [
       "{1, 2, 3, 4, 5, 8, 9, 10}"
      ]
     },
     "execution_count": 41,
     "metadata": {},
     "output_type": "execute_result"
    }
   ],
   "source": [
    "a|c"
   ]
  },
  {
   "cell_type": "code",
   "execution_count": 42,
   "id": "0bcfe8e3-2a88-4350-81f5-1a1005777c44",
   "metadata": {},
   "outputs": [
    {
     "data": {
      "text/plain": [
       "{4, 5, 6, 7, 8, 9, 10}"
      ]
     },
     "execution_count": 42,
     "metadata": {},
     "output_type": "execute_result"
    }
   ],
   "source": [
    "b|c"
   ]
  },
  {
   "cell_type": "code",
   "execution_count": 43,
   "id": "db5aea96-a3bd-43eb-abb1-c3dc973da8c6",
   "metadata": {},
   "outputs": [
    {
     "data": {
      "text/plain": [
       "{1, 2, 3, 4, 5, 6, 7, 8, 9, 10}"
      ]
     },
     "execution_count": 43,
     "metadata": {},
     "output_type": "execute_result"
    }
   ],
   "source": [
    "a|b|c"
   ]
  },
  {
   "cell_type": "code",
   "execution_count": 44,
   "id": "b9b4b76f-9427-4899-8352-91f91011b1b6",
   "metadata": {},
   "outputs": [
    {
     "name": "stdout",
     "output_type": "stream",
     "text": [
      "{1, 2, 3, 4, 5}\n",
      "{4, 5, 6, 7}\n",
      "{8, 9, 10}\n"
     ]
    }
   ],
   "source": [
    "print(a)\n",
    "print(b)\n",
    "print(c)"
   ]
  },
  {
   "cell_type": "code",
   "execution_count": 45,
   "id": "501b2ece-51d4-45c0-8c44-d7f0a6c02b0a",
   "metadata": {},
   "outputs": [
    {
     "data": {
      "text/plain": [
       "{1, 2, 3}"
      ]
     },
     "execution_count": 45,
     "metadata": {},
     "output_type": "execute_result"
    }
   ],
   "source": [
    "a.difference(b)"
   ]
  },
  {
   "cell_type": "code",
   "execution_count": 46,
   "id": "d4a49a0a-1340-4b92-9013-c1abe6dd7c46",
   "metadata": {},
   "outputs": [
    {
     "data": {
      "text/plain": [
       "{1, 2, 3, 4, 5}"
      ]
     },
     "execution_count": 46,
     "metadata": {},
     "output_type": "execute_result"
    }
   ],
   "source": [
    "a.difference(c)"
   ]
  },
  {
   "cell_type": "code",
   "execution_count": 47,
   "id": "28ff476f-415a-49dc-b549-564b80714055",
   "metadata": {},
   "outputs": [
    {
     "data": {
      "text/plain": [
       "{8, 9, 10}"
      ]
     },
     "execution_count": 47,
     "metadata": {},
     "output_type": "execute_result"
    }
   ],
   "source": [
    "c.difference(a)"
   ]
  },
  {
   "cell_type": "code",
   "execution_count": 48,
   "id": "b85aa86d-3f15-4302-81f3-cd615e20441b",
   "metadata": {},
   "outputs": [
    {
     "data": {
      "text/plain": [
       "{8, 9, 10}"
      ]
     },
     "execution_count": 48,
     "metadata": {},
     "output_type": "execute_result"
    }
   ],
   "source": [
    "c.difference(b)"
   ]
  },
  {
   "cell_type": "code",
   "execution_count": 49,
   "id": "d38a2eed-9523-48a7-8a20-058bfc64f377",
   "metadata": {},
   "outputs": [
    {
     "data": {
      "text/plain": [
       "{4, 5, 6, 7}"
      ]
     },
     "execution_count": 49,
     "metadata": {},
     "output_type": "execute_result"
    }
   ],
   "source": [
    "b.difference(c)"
   ]
  },
  {
   "cell_type": "code",
   "execution_count": 50,
   "id": "43cd07c0-02a3-4eed-8e54-e0eb14d1bff6",
   "metadata": {},
   "outputs": [
    {
     "data": {
      "text/plain": [
       "set()"
      ]
     },
     "execution_count": 50,
     "metadata": {},
     "output_type": "execute_result"
    }
   ],
   "source": [
    "c.difference(c)"
   ]
  },
  {
   "cell_type": "code",
   "execution_count": 2,
   "id": "03a13834-0290-4763-8818-a2b78f0d202f",
   "metadata": {},
   "outputs": [
    {
     "ename": "NameError",
     "evalue": "name 'a' is not defined",
     "output_type": "error",
     "traceback": [
      "\u001b[31m---------------------------------------------------------------------------\u001b[39m",
      "\u001b[31mNameError\u001b[39m                                 Traceback (most recent call last)",
      "\u001b[36mCell\u001b[39m\u001b[36m \u001b[39m\u001b[32mIn[2]\u001b[39m\u001b[32m, line 1\u001b[39m\n\u001b[32m----> \u001b[39m\u001b[32m1\u001b[39m a.symmetric_difference (b)\n",
      "\u001b[31mNameError\u001b[39m: name 'a' is not defined"
     ]
    }
   ],
   "source": [
    "a.symmetric_difference (b)"
   ]
  },
  {
   "cell_type": "code",
   "execution_count": 3,
   "id": "20912b16-f1d8-48d9-ad57-cd671755b49c",
   "metadata": {},
   "outputs": [
    {
     "ename": "NameError",
     "evalue": "name 'c' is not defined",
     "output_type": "error",
     "traceback": [
      "\u001b[31m---------------------------------------------------------------------------\u001b[39m",
      "\u001b[31mNameError\u001b[39m                                 Traceback (most recent call last)",
      "\u001b[36mCell\u001b[39m\u001b[36m \u001b[39m\u001b[32mIn[3]\u001b[39m\u001b[32m, line 1\u001b[39m\n\u001b[32m----> \u001b[39m\u001b[32m1\u001b[39m c^a\n",
      "\u001b[31mNameError\u001b[39m: name 'c' is not defined"
     ]
    }
   ],
   "source": [
    "c^a"
   ]
  },
  {
   "cell_type": "code",
   "execution_count": 14,
   "id": "b0036a75-8071-47e5-8cb9-cfb160951e82",
   "metadata": {},
   "outputs": [],
   "source": [
    "a={1,2,3,4,8}\n",
    "b={5,6,7,8}\n",
    "c={8,9,10}"
   ]
  },
  {
   "cell_type": "code",
   "execution_count": 7,
   "id": "b592f3af-8ea8-491e-a975-44a41fca4b92",
   "metadata": {},
   "outputs": [
    {
     "data": {
      "text/plain": [
       "{1, 2, 3, 4, 6, 7, 8}"
      ]
     },
     "execution_count": 7,
     "metadata": {},
     "output_type": "execute_result"
    }
   ],
   "source": [
    "a.symmetric_difference(b)"
   ]
  },
  {
   "cell_type": "code",
   "execution_count": 15,
   "id": "b539a7f8-c34d-4b3e-abf2-8d2408dd716e",
   "metadata": {},
   "outputs": [
    {
     "name": "stdout",
     "output_type": "stream",
     "text": [
      "{1, 2, 3, 4, 8}\n",
      "{8, 5, 6, 7}\n",
      "{8, 9, 10}\n"
     ]
    }
   ],
   "source": [
    "print(a)\n",
    "print(b)\n",
    "print(c)"
   ]
  },
  {
   "cell_type": "code",
   "execution_count": 11,
   "id": "6b198723-27fe-4bea-9540-b1001eeba2a1",
   "metadata": {},
   "outputs": [
    {
     "ename": "NameError",
     "evalue": "name 'a' is not defined",
     "output_type": "error",
     "traceback": [
      "\u001b[31m---------------------------------------------------------------------------\u001b[39m",
      "\u001b[31mNameError\u001b[39m                                 Traceback (most recent call last)",
      "\u001b[36mCell\u001b[39m\u001b[36m \u001b[39m\u001b[32mIn[11]\u001b[39m\u001b[32m, line 1\u001b[39m\n\u001b[32m----> \u001b[39m\u001b[32m1\u001b[39m a.symmetric_difference_update(b)\n",
      "\u001b[31mNameError\u001b[39m: name 'a' is not defined"
     ]
    }
   ],
   "source": [
    "a.symmetric_difference_update(b)"
   ]
  },
  {
   "cell_type": "code",
   "execution_count": 17,
   "id": "f968fe49-f847-484c-a3c9-6581c97cc05b",
   "metadata": {},
   "outputs": [
    {
     "data": {
      "text/plain": [
       "{5, 6, 7}"
      ]
     },
     "execution_count": 17,
     "metadata": {},
     "output_type": "execute_result"
    }
   ],
   "source": [
    "a.intersection(b)"
   ]
  },
  {
   "cell_type": "code",
   "execution_count": 22,
   "id": "f5f2f869-b65a-4e2a-8334-7b002804501e",
   "metadata": {},
   "outputs": [],
   "source": [
    "c.intersection_update(b)"
   ]
  },
  {
   "cell_type": "code",
   "execution_count": 23,
   "id": "02ce12db-3b15-4d41-a5de-437d52ea0920",
   "metadata": {},
   "outputs": [],
   "source": [
    "A1={1,2,3,4,5,6,7,8,9}\n",
    "B1={3,4,5,6,7,8}\n",
    "C1={10,20,30,40,50}"
   ]
  },
  {
   "cell_type": "code",
   "execution_count": 12,
   "id": "5d0b3b65-f85e-4d2e-a73c-c1a38652734a",
   "metadata": {},
   "outputs": [
    {
     "ename": "SyntaxError",
     "evalue": "invalid syntax (2315914676.py, line 1)",
     "output_type": "error",
     "traceback": [
      "  \u001b[36mCell\u001b[39m\u001b[36m \u001b[39m\u001b[32mIn[12]\u001b[39m\u001b[32m, line 1\u001b[39m\n\u001b[31m    \u001b[39m\u001b[31mB1.issubset A1\u001b[39m\n                ^\n\u001b[31mSyntaxError\u001b[39m\u001b[31m:\u001b[39m invalid syntax\n"
     ]
    }
   ],
   "source": [
    "B1.issubset A1"
   ]
  },
  {
   "cell_type": "code",
   "execution_count": null,
   "id": "36c16f70-0be2-46dc-bc9a-b68c739be799",
   "metadata": {},
   "outputs": [],
   "source": []
  }
 ],
 "metadata": {
  "kernelspec": {
   "display_name": "python-starter",
   "language": "python",
   "name": "conda-env-python-starter"
  },
  "language_info": {
   "codemirror_mode": {
    "name": "ipython",
    "version": 3
   },
   "file_extension": ".py",
   "mimetype": "text/x-python",
   "name": "python",
   "nbconvert_exporter": "python",
   "pygments_lexer": "ipython3",
   "version": "3.11.13"
  }
 },
 "nbformat": 4,
 "nbformat_minor": 5
}
